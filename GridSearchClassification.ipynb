{
 "cells": [
  {
   "cell_type": "code",
   "execution_count": 154,
   "metadata": {
    "collapsed": true
   },
   "outputs": [],
   "source": [
    "from time import time\n",
    "import pandas as pd\n",
    "import numpy as np\n",
    "import seaborn as sns\n",
    "import matplotlib\n",
    "import random\n",
    "from sklearn.preprocessing import StandardScaler, MaxAbsScaler, MinMaxScaler, Imputer\n",
    "from sklearn.feature_extraction.text import CountVectorizer, TfidfTransformer, TfidfVectorizer \n",
    "from sklearn.model_selection import train_test_split, cross_val_score, StratifiedKFold, GridSearchCV, RandomizedSearchCV\n",
    "from sklearn.metrics import classification_report, confusion_matrix, accuracy_score\n",
    "from sklearn.naive_bayes import MultinomialNB, BernoulliNB, GaussianNB\n",
    "from sklearn.linear_model import LogisticRegression, SGDClassifier\n",
    "from sklearn.tree import DecisionTreeClassifier, ExtraTreeClassifier\n",
    "from sklearn.neighbors import KNeighborsClassifier\n",
    "from sklearn.ensemble import RandomForestClassifier, BaggingClassifier, AdaBoostClassifier, GradientBoostingClassifier\n",
    "from sklearn.svm import SVC\n",
    "from scipy.stats import randint\n",
    "from sklearn.metrics import mean_squared_error\n",
    "import matplotlib.pyplot as plt\n",
    "from IPython.display import display\n",
    "from sklearn import metrics\n",
    "from catboost import CatBoostClassifier\n",
    "%matplotlib inline\n",
    "pd.options.mode.chained_assignment = None  # default='warn'\n"
   ]
  },
  {
   "cell_type": "markdown",
   "metadata": {},
   "source": [
    "#### Loading scraped data"
   ]
  },
  {
   "cell_type": "code",
   "execution_count": 3,
   "metadata": {
    "collapsed": true
   },
   "outputs": [],
   "source": [
    "import pickle\n",
    "data = pickle.load( open( \"data_df_clean.p\", \"rb\" ) )"
   ]
  },
  {
   "cell_type": "markdown",
   "metadata": {},
   "source": [
    "#### Creating new \"total_reviews\" and \"rating_class\" variables"
   ]
  },
  {
   "cell_type": "code",
   "execution_count": 5,
   "metadata": {
    "collapsed": true
   },
   "outputs": [],
   "source": [
    "data['total_reviews'] = data.user_reviews + data.critic_reviews\n",
    "data['rating_class'] = data.rating.map(lambda x: 1 if x >= 8 else 0)"
   ]
  },
  {
   "cell_type": "markdown",
   "metadata": {},
   "source": [
    "#### Creating predictors and target "
   ]
  },
  {
   "cell_type": "code",
   "execution_count": null,
   "metadata": {
    "collapsed": true
   },
   "outputs": [],
   "source": [
    "X = data.drop(['id', 'name','rating', 'rating_class'], axis=1)\n",
    "y = data.rating.values"
   ]
  },
  {
   "cell_type": "markdown",
   "metadata": {},
   "source": [
    "#### Train/Test split"
   ]
  },
  {
   "cell_type": "code",
   "execution_count": null,
   "metadata": {
    "collapsed": true
   },
   "outputs": [],
   "source": [
    "X_train, X_test, y_train, y_test = train_test_split(X, y, test_size=0.2, random_state=412)"
   ]
  },
  {
   "cell_type": "markdown",
   "metadata": {},
   "source": [
    "#### Vectorize columns using CountVectorizer"
   ]
  },
  {
   "cell_type": "code",
   "execution_count": 89,
   "metadata": {
    "collapsed": true
   },
   "outputs": [],
   "source": [
    "cvr = CountVectorizer(binary=True, \n",
    "                      strip_accents='unicode',\n",
    "                      max_features = 100,\n",
    "                      tokenizer=(lambda x: x.split('|')))\n",
    "\n",
    "X_train_cast = cvr.fit_transform(X_train.cast).todense()\n",
    "names = cvr.get_feature_names()\n",
    "cast_df = pd.DataFrame(X_train_cast, columns=names)\n",
    "\n",
    "for i in cast_df.columns:\n",
    "    X_train.insert(len(X_train.columns)-1,\"actor_\"+i,cast_df[i].values)\n",
    "\n",
    "\n",
    "X_test_cast = cvr.transform(X_test.cast).todense()\n",
    "names = cvr.get_feature_names()\n",
    "cast_df = pd.DataFrame(X_test_cast, columns=names)\n",
    "\n",
    "for i in cast_df.columns:\n",
    "    X_test.insert(len(X_test.columns)-1,\"actor_\"+i,cast_df[i].values)\n",
    "\n",
    "\n",
    "cvr = CountVectorizer(binary=True, \n",
    "                      strip_accents='unicode')\n",
    "\n",
    "X_train_genre = cvr.fit_transform(X_train.genre).todense()\n",
    "names = cvr.get_feature_names()\n",
    "genre_df = pd.DataFrame(X_train_genre, columns=names)\n",
    "\n",
    "for i in genre_df.columns:\n",
    "    X_train.insert(len(X_train.columns)-1,\"genre_\"+i,genre_df[i].values)\n",
    "X_train = X_train.drop(['genre', 'cast'], axis=1)\n",
    "\n",
    "X_test_genre = cvr.transform(X_test.genre).todense()\n",
    "names = cvr.get_feature_names()\n",
    "genre_df = pd.DataFrame(X_test_genre, columns=names)\n",
    "\n",
    "for i in genre_df.columns:\n",
    "    X_test.insert(len(X_test.columns)-1,\"genre_\"+i,genre_df[i].values)\n",
    "X_test = X_test.drop(['genre', 'cast'], axis=1)"
   ]
  },
  {
   "cell_type": "markdown",
   "metadata": {},
   "source": [
    "#### Standardize the predictors' variables"
   ]
  },
  {
   "cell_type": "code",
   "execution_count": null,
   "metadata": {
    "collapsed": true
   },
   "outputs": [],
   "source": [
    "ss = StandardScaler()\n",
    "\n",
    "Xs_train = ss.fit_transform(X_train)\n",
    "\n",
    "Xs_test = ss.transform(X_test)"
   ]
  },
  {
   "cell_type": "markdown",
   "metadata": {},
   "source": [
    "#### Cross-validation: evaluating estimator performance\n",
    "<li> every estimator exposes a score method that can judge the quality of the fit (or the prediction) on new data."
   ]
  },
  {
   "cell_type": "code",
   "execution_count": 156,
   "metadata": {
    "scrolled": true
   },
   "outputs": [
    {
     "name": "stdout",
     "output_type": "stream",
     "text": [
      "KNeighbors CV Score:\t0.698 ± 0.002\n",
      "Baseline score:\t 0.71\n",
      "Train score:\t 0.80\n",
      "Test score:\t 0.71\n",
      "\n",
      "Logistic Regression CV Score:\t0.731 ± 0.01\n",
      "Baseline score:\t 0.71\n",
      "Train score:\t 0.75\n",
      "Test score:\t 0.71\n",
      "\n",
      "BernoulliNB CV Score:\t0.705 ± 0.018\n",
      "Baseline score:\t 0.71\n",
      "Train score:\t 0.72\n",
      "Test score:\t 0.69\n",
      "\n",
      "SVC CV Score:\t0.72 ± 0.003\n",
      "Baseline score:\t 0.71\n",
      "Train score:\t 0.76\n",
      "Test score:\t 0.71\n",
      "\n",
      "Decision Tree CV Score:\t0.651 ± 0.008\n",
      "Baseline score:\t 0.71\n",
      "Train score:\t 1.00\n",
      "Test score:\t 0.65\n",
      "\n",
      "Bagging DT CV Score:\t0.736 ± 0.012\n",
      "Baseline score:\t 0.71\n",
      "Train score:\t 1.00\n",
      "Test score:\t 0.74\n",
      "\n",
      "Random Forest CV Score:\t0.728 ± 0.004\n",
      "Baseline score:\t 0.71\n",
      "Train score:\t 0.98\n",
      "Test score:\t 0.74\n",
      "\n",
      "Extra Trees CV Score:\t0.653 ± 0.006\n",
      "Baseline score:\t 0.71\n",
      "Train score:\t 1.00\n",
      "Test score:\t 0.66\n",
      "\n",
      "Ada Boost CV Score:\t0.65 ± 0.002\n",
      "Baseline score:\t 0.71\n",
      "Train score:\t 1.00\n",
      "Test score:\t 0.65\n",
      "\n",
      "Gradient Boost CV Score:\t0.744 ± 0.007\n",
      "Baseline score:\t 0.71\n",
      "Train score:\t 0.92\n",
      "Test score:\t 0.74\n",
      "\n",
      "CatBoost CV Score:\t0.753 ± 0.01\n",
      "Baseline score:\t 0.71\n",
      "Train score:\t 0.81\n",
      "Test score:\t 0.75\n",
      "\n"
     ]
    }
   ],
   "source": [
    "cv = StratifiedKFold(n_splits=3,shuffle=True,random_state=42)\n",
    "knn = KNeighborsClassifier()\n",
    "lr = LogisticRegression()\n",
    "bn = BernoulliNB()\n",
    "svc = SVC()\n",
    "dtc = DecisionTreeClassifier()\n",
    "bc = BaggingClassifier(base_estimator=dtc, n_estimators=500, n_jobs=2)\n",
    "rf = RandomForestClassifier()\n",
    "et = ExtraTreeClassifier()\n",
    "ab = AdaBoostClassifierCatBoost### To understand which functions are more important for rating forecasting, I will use the following models:\n",
    "<li> DecisionTreeRegressor model\n",
    "<li> AdaBoostRegressor model\n",
    "<li> BaggingRegressor model\n",
    "<li> RandomForestRegressor model\n",
    "<li> GradientBoostingRegressor model(base_estimator=dtc, n_estimators=500)\n",
    "gb = GradientBoostingClassifier(n_estimators=1000)\n",
    "catboost = CatBoostClassifier()\n",
    "def score(model, name):\n",
    "    s = cross_val_score(model, Xs_train, y_train, cv=cv)\n",
    "    print(\"{} CV Score:\\t{:0.3} ± {:0.3}\".format(name, s.mean().round(3), s.std().round(3)))\n",
    "    model.fit(Xs_train,y_train)\n",
    "    y_pred = model.predict(Xs_test)\n",
    "    print \"Baseline score:\\t {:.2f}\".format(1 - y.mean())\n",
    "    print \"Train score:\\t {:.2f}\".format(model.score(Xs_train, y_train))\n",
    "    print \"Test score:\\t {:.2f}\\n\".format(model.score(Xs_test, y_test))\n",
    "\n",
    "score(knn, \"KNeighbors\")\n",
    "score(lr, \"Logistic Regression\")\n",
    "score(bn, \"BernoulliNB\")\n",
    "score(svc, \"SVC\")\n",
    "score(dtc, \"Decision Tree\")\n",
    "score(bc, \"Bagging DT\")\n",
    "score(rf, \"Random Forest\")\n",
    "score(et, \"Extra Trees\")\n",
    "score(ab, \"Ada Boost\")\n",
    "score(gb, \"Gradient Boost\")\n",
    "score(catboost, \"CatBoost\")"
   ]
  },
  {
   "cell_type": "markdown",
   "metadata": {},
   "source": [
    "### To understand which functions are more important for rating forecasting, I will use the following models:\n",
    "<li> DecisionTreeRegressor model\n",
    "<li> AdaBoostRegressor model\n",
    "<li> BaggingRegressor model\n",
    "<li> RandomForestRegressor model\n",
    "<li> GradientBoostingRegressor model"
   ]
  },
  {
   "cell_type": "markdown",
   "metadata": {},
   "source": [
    "### DecisionTreeClassifier model"
   ]
  },
  {
   "cell_type": "code",
   "execution_count": 50,
   "metadata": {},
   "outputs": [
    {
     "name": "stdout",
     "output_type": "stream",
     "text": [
      "Fitting 3 folds for each of 324 candidates, totalling 972 fits\n"
     ]
    },
    {
     "name": "stderr",
     "output_type": "stream",
     "text": [
      "[Parallel(n_jobs=2)]: Done 240 tasks      | elapsed:    3.1s\n",
      "[Parallel(n_jobs=2)]: Done 972 out of 972 | elapsed:   11.4s finished\n"
     ]
    },
    {
     "data": {
      "text/plain": [
       "GridSearchCV(cv=StratifiedKFold(n_splits=3, random_state=42, shuffle=True),\n",
       "       error_score='raise',\n",
       "       estimator=DecisionTreeClassifier(class_weight=None, criterion='gini', max_depth=None,\n",
       "            max_features=None, max_leaf_nodes=None,\n",
       "            min_impurity_split=1e-07, min_samples_leaf=1,\n",
       "            min_samples_split=2, min_weight_fraction_leaf=0.0,\n",
       "            presort=False, random_state=None, splitter='best'),\n",
       "       fit_params={}, iid=True, n_jobs=2,\n",
       "       param_grid={'splitter': ['best', 'random'], 'min_samples_leaf': [10, 15, 20], 'min_samples_split': [2, 3, 4], 'criterion': ['gini', 'entropy'], 'max_features': [1.0, 0.5, 0.1], 'max_depth': [None, 3, 5]},\n",
       "       pre_dispatch='2*n_jobs', refit=True, return_train_score=True,\n",
       "       scoring=None, verbose=1)"
      ]
     },
     "execution_count": 50,
     "metadata": {},
     "output_type": "execute_result"
    }
   ],
   "source": [
    "# parameters to tune\n",
    "param_grid = {\"splitter\": [\"best\", \"random\"],\n",
    "              \"max_depth\": [None, 3, 5],\n",
    "              \"max_features\": [1.0, 0.5, 0.1],\n",
    "              \"min_samples_split\": [2, 3, 4],\n",
    "              \"min_samples_leaf\": [10, 15, 20],\n",
    "              \"criterion\": [\"gini\", \"entropy\"]}\n",
    "dtc = DecisionTreeClassifier()\n",
    "grid_search_dtc = GridSearchCV(dtc, param_grid=param_grid, verbose=1, cv=cv, n_jobs=2)\n",
    "grid_search_dtc.fit(Xs_train, y_train)"
   ]
  },
  {
   "cell_type": "code",
   "execution_count": 59,
   "metadata": {},
   "outputs": [
    {
     "name": "stdout",
     "output_type": "stream",
     "text": [
      "Best model:\n",
      "DecisionTreeClassifier(class_weight=None, criterion='gini', max_depth=5,\n",
      "            max_features=0.5, max_leaf_nodes=None,\n",
      "            min_impurity_split=1e-07, min_samples_leaf=10,\n",
      "            min_samples_split=2, min_weight_fraction_leaf=0.0,\n",
      "            presort=False, random_state=None, splitter='best')\n"
     ]
    }
   ],
   "source": [
    "# best model estimator\n",
    "dtc_best_model = grid_search_dtc.best_estimator_\n",
    "print \"Best model:\\n\",dtc_best_model"
   ]
  },
  {
   "cell_type": "code",
   "execution_count": 57,
   "metadata": {},
   "outputs": [
    {
     "name": "stdout",
     "output_type": "stream",
     "text": [
      "Best parameters:\n",
      "{'splitter': 'best', 'min_samples_leaf': 10, 'min_samples_split': 2, 'criterion': 'gini', 'max_features': 0.5, 'max_depth': 5}\n"
     ]
    }
   ],
   "source": [
    "# best tuned parameters\n",
    "dtc_best_parameters = grid_search_dtc.best_params_\n",
    "print \"Best parameters:\\n\", dtc_best_parameters"
   ]
  },
  {
   "cell_type": "code",
   "execution_count": 61,
   "metadata": {},
   "outputs": [
    {
     "name": "stdout",
     "output_type": "stream",
     "text": [
      "Baseline score:\t0.705705102451\n",
      "Best score:\t0.71686746988\n"
     ]
    }
   ],
   "source": [
    "# best score\n",
    "dtc_best_score = dtc_best_model.score(Xs_test, y_test)\n",
    "print \"Baseline score:\\t\", 1 - y.mean()\n",
    "print \"Best score:\\t\",dtc_best_score"
   ]
  },
  {
   "cell_type": "code",
   "execution_count": 62,
   "metadata": {
    "collapsed": true
   },
   "outputs": [],
   "source": [
    "# model predictions\n",
    "y_pred = dtc_best_model.predict(Xs_test)"
   ]
  },
  {
   "cell_type": "markdown",
   "metadata": {},
   "source": [
    "#### Top 10 important features"
   ]
  },
  {
   "cell_type": "code",
   "execution_count": 64,
   "metadata": {
    "collapsed": true
   },
   "outputs": [],
   "source": [
    "dtc_feature_importances = pd.DataFrame(dtc_best_model.feature_importances_,\n",
    "                                   index = X_train.columns,\n",
    "                                    columns=['importance'])\n",
    "top_10 = dtc_feature_importances.sort_values(by='importance', ascending=True).tail(10)"
   ]
  },
  {
   "cell_type": "code",
   "execution_count": 65,
   "metadata": {},
   "outputs": [
    {
     "data": {
      "text/html": [
       "<div>\n",
       "<style>\n",
       "    .dataframe thead tr:only-child th {\n",
       "        text-align: right;\n",
       "    }\n",
       "\n",
       "    .dataframe thead th {\n",
       "        text-align: left;\n",
       "    }\n",
       "\n",
       "    .dataframe tbody tr th {\n",
       "        vertical-align: top;\n",
       "    }\n",
       "</style>\n",
       "<table border=\"1\" class=\"dataframe\">\n",
       "  <thead>\n",
       "    <tr style=\"text-align: right;\">\n",
       "      <th></th>\n",
       "      <th>importance</th>\n",
       "    </tr>\n",
       "  </thead>\n",
       "  <tbody>\n",
       "    <tr>\n",
       "      <th>votes</th>\n",
       "      <td>0.307296</td>\n",
       "    </tr>\n",
       "    <tr>\n",
       "      <th>total_reviews</th>\n",
       "      <td>0.267620</td>\n",
       "    </tr>\n",
       "    <tr>\n",
       "      <th>critic_reviews</th>\n",
       "      <td>0.119056</td>\n",
       "    </tr>\n",
       "    <tr>\n",
       "      <th>genre_documentary</th>\n",
       "      <td>0.081514</td>\n",
       "    </tr>\n",
       "    <tr>\n",
       "      <th>runtime_tvmaze</th>\n",
       "      <td>0.078477</td>\n",
       "    </tr>\n",
       "    <tr>\n",
       "      <th>user_reviews</th>\n",
       "      <td>0.049409</td>\n",
       "    </tr>\n",
       "    <tr>\n",
       "      <th>n_episodes</th>\n",
       "      <td>0.041097</td>\n",
       "    </tr>\n",
       "    <tr>\n",
       "      <th>genre_action</th>\n",
       "      <td>0.021900</td>\n",
       "    </tr>\n",
       "    <tr>\n",
       "      <th>genre_drama</th>\n",
       "      <td>0.018653</td>\n",
       "    </tr>\n",
       "    <tr>\n",
       "      <th>start_date</th>\n",
       "      <td>0.014978</td>\n",
       "    </tr>\n",
       "  </tbody>\n",
       "</table>\n",
       "</div>"
      ],
      "text/plain": [
       "                   importance\n",
       "votes                0.307296\n",
       "total_reviews        0.267620\n",
       "critic_reviews       0.119056\n",
       "genre_documentary    0.081514\n",
       "runtime_tvmaze       0.078477\n",
       "user_reviews         0.049409\n",
       "n_episodes           0.041097\n",
       "genre_action         0.021900\n",
       "genre_drama          0.018653\n",
       "start_date           0.014978"
      ]
     },
     "execution_count": 65,
     "metadata": {},
     "output_type": "execute_result"
    }
   ],
   "source": [
    "top_10.sort_values(by='importance', ascending=False)"
   ]
  },
  {
   "cell_type": "code",
   "execution_count": 66,
   "metadata": {
    "scrolled": false
   },
   "outputs": [
    {
     "data": {
      "image/png": "[encoded data removed]",
      "text/plain": [
       "<matplotlib.figure.Figure at 0x10f6a2d10>"
      ]
     },
     "metadata": {},
     "output_type": "display_data"
    }
   ],
   "source": [
    "top_10.plot(kind = \"barh\", figsize=(10,6), fontsize=14)\n",
    "plt.title(\"Top 10 important features in DecisionTree Model\", fontsize=14)\n",
    "plt.show()"
   ]
  },
  {
   "cell_type": "markdown",
   "metadata": {},
   "source": [
    "### AdaBoostClassifier model"
   ]
  },
  {
   "cell_type": "code",
   "execution_count": 112,
   "metadata": {
    "scrolled": false
   },
   "outputs": [
    {
     "name": "stdout",
     "output_type": "stream",
     "text": [
      "Fitting 3 folds for each of 16 candidates, totalling 48 fits\n"
     ]
    },
    {
     "name": "stderr",
     "output_type": "stream",
     "text": [
      "[Parallel(n_jobs=2)]: Done  48 out of  48 | elapsed:   30.2s finished\n"
     ]
    },
    {
     "data": {
      "text/plain": [
       "GridSearchCV(cv=StratifiedKFold(n_splits=3, random_state=42, shuffle=True),\n",
       "       error_score='raise',\n",
       "       estimator=AdaBoostClassifier(algorithm='SAMME.R',\n",
       "          base_estimator=DecisionTreeClassifier(class_weight=None, criterion='gini', max_depth=5,\n",
       "            max_features=0.5, max_leaf_nodes=None,\n",
       "            min_impurity_split=1e-07, min_samples_leaf=10,\n",
       "            min_samples_split=2, min_weight_fraction_leaf=0.0,\n",
       "            presort=False, random_state=None, splitter='best'),\n",
       "          learning_rate=1.0, n_estimators=50, random_state=None),\n",
       "       fit_params={}, iid=True, n_jobs=2,\n",
       "       param_grid={'n_estimators': [10, 20, 30, 400], 'base_estimator__criterion': ['gini', 'entropy'], 'base_estimator__splitter': ['best', 'random']},\n",
       "       pre_dispatch='2*n_jobs', refit=True, return_train_score=True,\n",
       "       scoring=None, verbose=1)"
      ]
     },
     "execution_count": 112,
     "metadata": {},
     "output_type": "execute_result"
    }
   ],
   "source": [
    "# parameters to tune\n",
    "param_grid = {\"base_estimator__criterion\" : [\"gini\", \"entropy\"],\n",
    "              \"base_estimator__splitter\" :   [\"best\", \"random\"],\n",
    "              \"n_estimators\": [10, 20, 30, 400]\n",
    "             }\n",
    "dtc = DecisionTreeClassifier(class_weight=None, criterion='gini', max_depth=5,\n",
    "            max_features=0.5, max_leaf_nodes=None,\n",
    "            min_impurity_split=1e-07, min_samples_leaf=10,\n",
    "            min_samples_split=2, min_weight_fraction_leaf=0.0,\n",
    "            presort=False, random_state=None, splitter='best')\n",
    "abc = AdaBoostClassifier(base_estimator = dtc)\n",
    "\n",
    "# run grid search\n",
    "grid_search_abc = GridSearchCV(abc, param_grid=param_grid, cv=cv, n_jobs=2, verbose=1)\n",
    "grid_search_abc.fit(Xs_train, y_train)"
   ]
  },
  {
   "cell_type": "code",
   "execution_count": 113,
   "metadata": {},
   "outputs": [
    {
     "name": "stdout",
     "output_type": "stream",
     "text": [
      "Best model:\n",
      "AdaBoostClassifier(algorithm='SAMME.R',\n",
      "          base_estimator=DecisionTreeClassifier(class_weight=None, criterion='entropy', max_depth=5,\n",
      "            max_features=0.5, max_leaf_nodes=None,\n",
      "            min_impurity_split=1e-07, min_samples_leaf=10,\n",
      "            min_samples_split=2, min_weight_fraction_leaf=0.0,\n",
      "            presort=False, random_state=None, splitter='random'),\n",
      "          learning_rate=1.0, n_estimators=30, random_state=None)\n"
     ]
    }
   ],
   "source": [
    "# best model estimator\n",
    "abc_best_model = grid_search_abc.best_estimator_\n",
    "print \"Best model:\\n\",abc_best_model"
   ]
  },
  {
   "cell_type": "code",
   "execution_count": 114,
   "metadata": {},
   "outputs": [
    {
     "name": "stdout",
     "output_type": "stream",
     "text": [
      "Best parameters:\n",
      "{'n_estimators': 30, 'base_estimator__criterion': 'entropy', 'base_estimator__splitter': 'random'}\n"
     ]
    }
   ],
   "source": [
    "# best tuned parameters\n",
    "abc_best_parameters = grid_search_abc.best_params_\n",
    "print \"Best parameters:\\n\", abc_best_parameters"
   ]
  },
  {
   "cell_type": "code",
   "execution_count": 115,
   "metadata": {},
   "outputs": [
    {
     "name": "stdout",
     "output_type": "stream",
     "text": [
      "Baseline score:\t0.705705102451\n",
      "Best score:\t0.724899598394\n"
     ]
    }
   ],
   "source": [
    "# best score\n",
    "abc_best_score = abc_best_model.score(Xs_test, y_test)\n",
    "print \"Baseline score:\\t\", 1 - y.mean()\n",
    "print \"Best score:\\t\", abc_best_score"
   ]
  },
  {
   "cell_type": "code",
   "execution_count": 116,
   "metadata": {
    "collapsed": true
   },
   "outputs": [],
   "source": [
    "# model predictions\n",
    "y_pred = abc_best_model.predict(Xs_test)"
   ]
  },
  {
   "cell_type": "markdown",
   "metadata": {},
   "source": [
    "#### Top 10 important features"
   ]
  },
  {
   "cell_type": "code",
   "execution_count": 117,
   "metadata": {
    "collapsed": true
   },
   "outputs": [],
   "source": [
    "abc_feature_importances = pd.DataFrame(abc_best_model.feature_importances_,\n",
    "                                   index = X_train.columns,\n",
    "                                    columns=['importance'])\n",
    "top_10 = abc_feature_importances.sort_values(by='importance', ascending=True).tail(10)"
   ]
  },
  {
   "cell_type": "code",
   "execution_count": 118,
   "metadata": {
    "scrolled": true
   },
   "outputs": [
    {
     "data": {
      "text/html": [
       "<div>\n",
       "<style>\n",
       "    .dataframe thead tr:only-child th {\n",
       "        text-align: right;\n",
       "    }\n",
       "\n",
       "    .dataframe thead th {\n",
       "        text-align: left;\n",
       "    }\n",
       "\n",
       "    .dataframe tbody tr th {\n",
       "        vertical-align: top;\n",
       "    }\n",
       "</style>\n",
       "<table border=\"1\" class=\"dataframe\">\n",
       "  <thead>\n",
       "    <tr style=\"text-align: right;\">\n",
       "      <th></th>\n",
       "      <th>importance</th>\n",
       "    </tr>\n",
       "  </thead>\n",
       "  <tbody>\n",
       "    <tr>\n",
       "      <th>critic_reviews</th>\n",
       "      <td>0.069680</td>\n",
       "    </tr>\n",
       "    <tr>\n",
       "      <th>n_episodes</th>\n",
       "      <td>0.058330</td>\n",
       "    </tr>\n",
       "    <tr>\n",
       "      <th>user_reviews</th>\n",
       "      <td>0.054320</td>\n",
       "    </tr>\n",
       "    <tr>\n",
       "      <th>votes</th>\n",
       "      <td>0.047549</td>\n",
       "    </tr>\n",
       "    <tr>\n",
       "      <th>start_date</th>\n",
       "      <td>0.035228</td>\n",
       "    </tr>\n",
       "    <tr>\n",
       "      <th>runtime_tvmaze</th>\n",
       "      <td>0.032840</td>\n",
       "    </tr>\n",
       "    <tr>\n",
       "      <th>actor_wendey stanzler</th>\n",
       "      <td>0.024131</td>\n",
       "    </tr>\n",
       "    <tr>\n",
       "      <th>total_reviews</th>\n",
       "      <td>0.020596</td>\n",
       "    </tr>\n",
       "    <tr>\n",
       "      <th>actor_andrew bernstein</th>\n",
       "      <td>0.018310</td>\n",
       "    </tr>\n",
       "    <tr>\n",
       "      <th>actor_patrick r. norris</th>\n",
       "      <td>0.015952</td>\n",
       "    </tr>\n",
       "  </tbody>\n",
       "</table>\n",
       "</div>"
      ],
      "text/plain": [
       "                         importance\n",
       "critic_reviews             0.069680\n",
       "n_episodes                 0.058330\n",
       "user_reviews               0.054320\n",
       "votes                      0.047549\n",
       "start_date                 0.035228\n",
       "runtime_tvmaze             0.032840\n",
       "actor_wendey stanzler      0.024131\n",
       "total_reviews              0.020596\n",
       "actor_andrew bernstein     0.018310\n",
       "actor_patrick r. norris    0.015952"
      ]
     },
     "execution_count": 118,
     "metadata": {},
     "output_type": "execute_result"
    }
   ],
   "source": [
    "top_10.sort_values(by='importance', ascending=False)"
   ]
  },
  {
   "cell_type": "code",
   "execution_count": 119,
   "metadata": {
    "scrolled": false
   },
   "outputs": [
    {
     "data": {
      "image/png": "[encoded data removed]",
      "text/plain": [
       "<matplotlib.figure.Figure at 0x116781a50>"
      ]
     },
     "metadata": {},
     "output_type": "display_data"
    }
   ],
   "source": [
    "top_10.plot(kind = \"barh\", figsize=(10,6), fontsize=14)\n",
    "plt.title(\"Top 10 important features in AdaBoostRegressor\", fontsize=14)\n",
    "plt.show()"
   ]
  },
  {
   "cell_type": "markdown",
   "metadata": {},
   "source": [
    "### BaggingClassifier model"
   ]
  },
  {
   "cell_type": "code",
   "execution_count": 120,
   "metadata": {
    "scrolled": true
   },
   "outputs": [
    {
     "name": "stdout",
     "output_type": "stream",
     "text": [
      "Fitting 3 folds for each of 27 candidates, totalling 81 fits\n"
     ]
    },
    {
     "name": "stderr",
     "output_type": "stream",
     "text": [
      "/Users/iurigo/anaconda/lib/python2.7/site-packages/sklearn/externals/joblib/parallel.py:540: UserWarning: Multiprocessing-backed parallel loops cannot be nested, setting n_jobs=1\n",
      "  **self._backend_args)\n",
      "/Users/iurigo/anaconda/lib/python2.7/site-packages/sklearn/externals/joblib/parallel.py:540: UserWarning: Multiprocessing-backed parallel loops cannot be nested, setting n_jobs=1\n",
      "  **self._backend_args)\n",
      "[Parallel(n_jobs=2)]: Done  46 tasks      | elapsed:  2.5min\n",
      "[Parallel(n_jobs=2)]: Done  81 out of  81 | elapsed:  3.3min finished\n"
     ]
    },
    {
     "data": {
      "text/plain": [
       "GridSearchCV(cv=StratifiedKFold(n_splits=3, random_state=42, shuffle=True),\n",
       "       error_score='raise',\n",
       "       estimator=BaggingClassifier(base_estimator=DecisionTreeClassifier(class_weight=None, criterion='gini', max_depth=5,\n",
       "            max_features=0.5, max_leaf_nodes=None,\n",
       "            min_impurity_split=1e-07, min_samples_leaf=10,\n",
       "            min_samples_split=2, min_weight_fraction_leaf=0.0,\n",
       "           ...n_estimators=10, n_jobs=2, oob_score=False,\n",
       "         random_state=None, verbose=0, warm_start=False),\n",
       "       fit_params={}, iid=True, n_jobs=2,\n",
       "       param_grid={'n_estimators': [400, 500, 600], 'max_samples': [1.0, 0.5, 0.1], 'max_features': [1.0, 0.5, 0.1]},\n",
       "       pre_dispatch='2*n_jobs', refit=True, return_train_score=True,\n",
       "       scoring=None, verbose=1)"
      ]
     },
     "execution_count": 120,
     "metadata": {},
     "output_type": "execute_result"
    }
   ],
   "source": [
    "# parameters to tune\n",
    "param_grid = {\"n_estimators\": [400, 500, 600],\n",
    "              \"max_samples\": [1.0, 0.5, 0.1],\n",
    "              \"max_features\": [1.0, 0.5, 0.1]\n",
    "             }\n",
    "bc = BaggingClassifier(base_estimator=dtc, n_jobs=2)\n",
    "\n",
    "# run grid search\n",
    "grid_search_bc = GridSearchCV(bc, param_grid=param_grid, cv=cv, n_jobs=2, verbose=1)\n",
    "grid_search_bc.fit(Xs_train, y_train)"
   ]
  },
  {
   "cell_type": "code",
   "execution_count": 121,
   "metadata": {},
   "outputs": [
    {
     "name": "stdout",
     "output_type": "stream",
     "text": [
      "Best model:\n",
      "BaggingClassifier(base_estimator=DecisionTreeClassifier(class_weight=None, criterion='gini', max_depth=5,\n",
      "            max_features=0.5, max_leaf_nodes=None,\n",
      "            min_impurity_split=1e-07, min_samples_leaf=10,\n",
      "            min_samples_split=2, min_weight_fraction_leaf=0.0,\n",
      "            presort=False, random_state=None, splitter='best'),\n",
      "         bootstrap=True, bootstrap_features=False, max_features=1.0,\n",
      "         max_samples=0.5, n_estimators=600, n_jobs=2, oob_score=False,\n",
      "         random_state=None, verbose=0, warm_start=False)\n"
     ]
    }
   ],
   "source": [
    "# best model estimator\n",
    "bc_best_model = grid_search_bc.best_estimator_\n",
    "print \"Best model:\\n\", bc_best_model"
   ]
  },
  {
   "cell_type": "code",
   "execution_count": 122,
   "metadata": {},
   "outputs": [
    {
     "name": "stdout",
     "output_type": "stream",
     "text": [
      "Best parameters:\n",
      "{'max_features': 1.0, 'max_samples': 0.5, 'n_estimators': 600}\n"
     ]
    }
   ],
   "source": [
    "# best tuned parameters\n",
    "bc_best_parameters = grid_search_bc.best_params_\n",
    "print \"Best parameters:\\n\", bc_best_parameters"
   ]
  },
  {
   "cell_type": "code",
   "execution_count": 123,
   "metadata": {},
   "outputs": [
    {
     "name": "stdout",
     "output_type": "stream",
     "text": [
      "Baseline score:\t0.705705102451\n",
      "Best score:\t0.736947791165\n"
     ]
    }
   ],
   "source": [
    "# best score\n",
    "bc_best_score = bc_best_model.score(Xs_test, y_test)\n",
    "print \"Baseline score:\\t\", 1 - y.mean()\n",
    "print \"Best score:\\t\", bc_best_score"
   ]
  },
  {
   "cell_type": "code",
   "execution_count": 125,
   "metadata": {
    "collapsed": true
   },
   "outputs": [],
   "source": [
    "# model predictions\n",
    "y_pred = bc_best_model.predict(Xs_test)"
   ]
  },
  {
   "cell_type": "markdown",
   "metadata": {},
   "source": [
    "#### Top 10 important features"
   ]
  },
  {
   "cell_type": "code",
   "execution_count": 127,
   "metadata": {
    "collapsed": true
   },
   "outputs": [],
   "source": [
    "bc_feature_importances = np.mean([\n",
    "    tree.feature_importances_ for tree in bc_best_model.estimators_\n",
    "], axis=0)"
   ]
  },
  {
   "cell_type": "code",
   "execution_count": 128,
   "metadata": {
    "collapsed": true
   },
   "outputs": [],
   "source": [
    "bc_feature_importances_df = pd.DataFrame(bc_feature_importances,\n",
    "                                   index = X_train.columns,\n",
    "                                    columns=['importance'])\n",
    "top_10 = bc_feature_importances_df.sort_values(by='importance', ascending=True).tail(10)"
   ]
  },
  {
   "cell_type": "code",
   "execution_count": 129,
   "metadata": {},
   "outputs": [
    {
     "data": {
      "text/html": [
       "<div>\n",
       "<style>\n",
       "    .dataframe thead tr:only-child th {\n",
       "        text-align: right;\n",
       "    }\n",
       "\n",
       "    .dataframe thead th {\n",
       "        text-align: left;\n",
       "    }\n",
       "\n",
       "    .dataframe tbody tr th {\n",
       "        vertical-align: top;\n",
       "    }\n",
       "</style>\n",
       "<table border=\"1\" class=\"dataframe\">\n",
       "  <thead>\n",
       "    <tr style=\"text-align: right;\">\n",
       "      <th></th>\n",
       "      <th>importance</th>\n",
       "    </tr>\n",
       "  </thead>\n",
       "  <tbody>\n",
       "    <tr>\n",
       "      <th>votes</th>\n",
       "      <td>0.303382</td>\n",
       "    </tr>\n",
       "    <tr>\n",
       "      <th>critic_reviews</th>\n",
       "      <td>0.184015</td>\n",
       "    </tr>\n",
       "    <tr>\n",
       "      <th>genre_documentary</th>\n",
       "      <td>0.133954</td>\n",
       "    </tr>\n",
       "    <tr>\n",
       "      <th>n_episodes</th>\n",
       "      <td>0.106233</td>\n",
       "    </tr>\n",
       "    <tr>\n",
       "      <th>total_reviews</th>\n",
       "      <td>0.083109</td>\n",
       "    </tr>\n",
       "    <tr>\n",
       "      <th>start_date</th>\n",
       "      <td>0.060001</td>\n",
       "    </tr>\n",
       "    <tr>\n",
       "      <th>user_reviews</th>\n",
       "      <td>0.055721</td>\n",
       "    </tr>\n",
       "    <tr>\n",
       "      <th>runtime_tvmaze</th>\n",
       "      <td>0.036021</td>\n",
       "    </tr>\n",
       "    <tr>\n",
       "      <th>genre_action</th>\n",
       "      <td>0.008290</td>\n",
       "    </tr>\n",
       "    <tr>\n",
       "      <th>genre_animation</th>\n",
       "      <td>0.007195</td>\n",
       "    </tr>\n",
       "  </tbody>\n",
       "</table>\n",
       "</div>"
      ],
      "text/plain": [
       "                   importance\n",
       "votes                0.303382\n",
       "critic_reviews       0.184015\n",
       "genre_documentary    0.133954\n",
       "n_episodes           0.106233\n",
       "total_reviews        0.083109\n",
       "start_date           0.060001\n",
       "user_reviews         0.055721\n",
       "runtime_tvmaze       0.036021\n",
       "genre_action         0.008290\n",
       "genre_animation      0.007195"
      ]
     },
     "execution_count": 129,
     "metadata": {},
     "output_type": "execute_result"
    }
   ],
   "source": [
    "top_10.sort_values(by='importance', ascending=False)"
   ]
  },
  {
   "cell_type": "code",
   "execution_count": 130,
   "metadata": {
    "scrolled": false
   },
   "outputs": [
    {
     "data": {
      "image/png": "[encoded data removed]",
      "text/plain": [
       "<matplotlib.figure.Figure at 0x116ec88d0>"
      ]
     },
     "metadata": {},
     "output_type": "display_data"
    }
   ],
   "source": [
    "top_10.plot(kind = \"barh\", figsize=(10,6), fontsize=14)\n",
    "plt.title(\"Top 10 important features in BaggingRegressor Model\", fontsize=14)\n",
    "plt.show()"
   ]
  },
  {
   "cell_type": "markdown",
   "metadata": {},
   "source": [
    "### RandomForestClassifier model"
   ]
  },
  {
   "cell_type": "code",
   "execution_count": 131,
   "metadata": {},
   "outputs": [
    {
     "name": "stdout",
     "output_type": "stream",
     "text": [
      "Fitting 3 folds for each of 162 candidates, totalling 486 fits\n"
     ]
    },
    {
     "name": "stderr",
     "output_type": "stream",
     "text": [
      "[Parallel(n_jobs=2)]: Done  46 tasks      | elapsed:  1.8min\n",
      "[Parallel(n_jobs=2)]: Done 196 tasks      | elapsed:  4.6min\n",
      "[Parallel(n_jobs=2)]: Done 446 tasks      | elapsed: 11.3min\n",
      "[Parallel(n_jobs=2)]: Done 486 out of 486 | elapsed: 12.0min finished\n"
     ]
    },
    {
     "data": {
      "text/plain": [
       "GridSearchCV(cv=StratifiedKFold(n_splits=3, random_state=42, shuffle=True),\n",
       "       error_score='raise',\n",
       "       estimator=RandomForestClassifier(bootstrap=True, class_weight=None, criterion='gini',\n",
       "            max_depth=None, max_features='auto', max_leaf_nodes=None,\n",
       "            min_impurity_split=1e-07, min_samples_leaf=1,\n",
       "            min_samples_split=2, min_weight_fraction_leaf=0.0,\n",
       "            n_estimators=10, n_jobs=1, oob_score=False, random_state=None,\n",
       "            verbose=0, warm_start=False),\n",
       "       fit_params={}, iid=True, n_jobs=2,\n",
       "       param_grid={'n_estimators': [190, 200, 210], 'max_features': [1.0, 0.5, 0.1], 'bootstrap': [True, False], 'max_depth': [None, 3, 5], 'min_samples_leaf': [1, 2, 3]},\n",
       "       pre_dispatch='2*n_jobs', refit=True, return_train_score=True,\n",
       "       scoring=None, verbose=1)"
      ]
     },
     "execution_count": 131,
     "metadata": {},
     "output_type": "execute_result"
    }
   ],
   "source": [
    "# parameters to tune\n",
    "param_grid = {\"n_estimators\": [190, 200, 210],\n",
    "              \"bootstrap\": [True, False],\n",
    "              \"min_samples_leaf\": [1, 2, 3],\n",
    "              \"max_features\": [1.0, 0.5, 0.1],\n",
    "              \"max_depth\": [None, 3, 5]\n",
    "             }\n",
    "rf = RandomForestClassifier()\n",
    "grid_search_rf = GridSearchCV(rf, param_grid=param_grid, verbose=1, cv=cv, n_jobs=2)\n",
    "grid_search_rf.fit(Xs_train, y_train)"
   ]
  },
  {
   "cell_type": "code",
   "execution_count": 132,
   "metadata": {},
   "outputs": [
    {
     "name": "stdout",
     "output_type": "stream",
     "text": [
      "Best model:\n",
      "RandomForestClassifier(bootstrap=True, class_weight=None, criterion='gini',\n",
      "            max_depth=None, max_features=0.1, max_leaf_nodes=None,\n",
      "            min_impurity_split=1e-07, min_samples_leaf=1,\n",
      "            min_samples_split=2, min_weight_fraction_leaf=0.0,\n",
      "            n_estimators=190, n_jobs=1, oob_score=False, random_state=None,\n",
      "            verbose=0, warm_start=False)\n"
     ]
    }
   ],
   "source": [
    "# best model estimator\n",
    "rf_best_model = grid_search_rf.best_estimator_\n",
    "print \"Best model:\\n\", rf_best_model"
   ]
  },
  {
   "cell_type": "code",
   "execution_count": 133,
   "metadata": {},
   "outputs": [
    {
     "name": "stdout",
     "output_type": "stream",
     "text": [
      "Best parameters:\n",
      "{'max_features': 0.1, 'n_estimators': 190, 'bootstrap': True, 'max_depth': None, 'min_samples_leaf': 1}\n"
     ]
    }
   ],
   "source": [
    "# best tuned parameters\n",
    "rf_best_parameters = grid_search_rf.best_params_\n",
    "print \"Best parameters:\\n\", rf_best_parameters"
   ]
  },
  {
   "cell_type": "code",
   "execution_count": 134,
   "metadata": {},
   "outputs": [
    {
     "name": "stdout",
     "output_type": "stream",
     "text": [
      "Baseline score:\t0.705705102451\n",
      "Best score:\t0.741967871486\n"
     ]
    }
   ],
   "source": [
    "# best score\n",
    "rf_best_score = rf_best_model.score(Xs_test, y_test)\n",
    "print \"Baseline score:\\t\", 1 - y.mean()\n",
    "print \"Best score:\\t\", rf_best_score"
   ]
  },
  {
   "cell_type": "code",
   "execution_count": 135,
   "metadata": {
    "collapsed": true
   },
   "outputs": [],
   "source": [
    "# model predictions\n",
    "y_pred = rf_best_model.predict(Xs_test)"
   ]
  },
  {
   "cell_type": "markdown",
   "metadata": {},
   "source": [
    "#### Top 10 important features"
   ]
  },
  {
   "cell_type": "code",
   "execution_count": 136,
   "metadata": {
    "collapsed": true
   },
   "outputs": [],
   "source": [
    "rf_feature_importances = pd.DataFrame(rf_best_model.feature_importances_,\n",
    "                                   index = X_train.columns,\n",
    "                                    columns=['importance'])\n",
    "top_10 = rf_feature_importances.sort_values(by='importance', ascending=True).tail(10)"
   ]
  },
  {
   "cell_type": "code",
   "execution_count": 137,
   "metadata": {},
   "outputs": [
    {
     "data": {
      "text/html": [
       "<div>\n",
       "<style>\n",
       "    .dataframe thead tr:only-child th {\n",
       "        text-align: right;\n",
       "    }\n",
       "\n",
       "    .dataframe thead th {\n",
       "        text-align: left;\n",
       "    }\n",
       "\n",
       "    .dataframe tbody tr th {\n",
       "        vertical-align: top;\n",
       "    }\n",
       "</style>\n",
       "<table border=\"1\" class=\"dataframe\">\n",
       "  <thead>\n",
       "    <tr style=\"text-align: right;\">\n",
       "      <th></th>\n",
       "      <th>importance</th>\n",
       "    </tr>\n",
       "  </thead>\n",
       "  <tbody>\n",
       "    <tr>\n",
       "      <th>votes</th>\n",
       "      <td>0.172060</td>\n",
       "    </tr>\n",
       "    <tr>\n",
       "      <th>n_episodes</th>\n",
       "      <td>0.134763</td>\n",
       "    </tr>\n",
       "    <tr>\n",
       "      <th>start_date</th>\n",
       "      <td>0.121763</td>\n",
       "    </tr>\n",
       "    <tr>\n",
       "      <th>total_reviews</th>\n",
       "      <td>0.107158</td>\n",
       "    </tr>\n",
       "    <tr>\n",
       "      <th>user_reviews</th>\n",
       "      <td>0.102013</td>\n",
       "    </tr>\n",
       "    <tr>\n",
       "      <th>critic_reviews</th>\n",
       "      <td>0.089170</td>\n",
       "    </tr>\n",
       "    <tr>\n",
       "      <th>runtime_tvmaze</th>\n",
       "      <td>0.068579</td>\n",
       "    </tr>\n",
       "    <tr>\n",
       "      <th>genre_documentary</th>\n",
       "      <td>0.022428</td>\n",
       "    </tr>\n",
       "    <tr>\n",
       "      <th>genre_comedy</th>\n",
       "      <td>0.013415</td>\n",
       "    </tr>\n",
       "    <tr>\n",
       "      <th>genre_animation</th>\n",
       "      <td>0.011699</td>\n",
       "    </tr>\n",
       "  </tbody>\n",
       "</table>\n",
       "</div>"
      ],
      "text/plain": [
       "                   importance\n",
       "votes                0.172060\n",
       "n_episodes           0.134763\n",
       "start_date           0.121763\n",
       "total_reviews        0.107158\n",
       "user_reviews         0.102013\n",
       "critic_reviews       0.089170\n",
       "runtime_tvmaze       0.068579\n",
       "genre_documentary    0.022428\n",
       "genre_comedy         0.013415\n",
       "genre_animation      0.011699"
      ]
     },
     "execution_count": 137,
     "metadata": {},
     "output_type": "execute_result"
    }
   ],
   "source": [
    "top_10.sort_values(by='importance', ascending=False)"
   ]
  },
  {
   "cell_type": "code",
   "execution_count": 138,
   "metadata": {
    "scrolled": false
   },
   "outputs": [
    {
     "data": {
      "image/png": "[encoded data removed]",
      "text/plain": [
       "<matplotlib.figure.Figure at 0x111c29b10>"
      ]
     },
     "metadata": {},
     "output_type": "display_data"
    }
   ],
   "source": [
    "top_10.plot(kind = \"barh\", figsize=(10,6), fontsize=14)\n",
    "plt.title(\"Top 10 important features in RandomForestRegressor Model\", fontsize=14)\n",
    "plt.show()"
   ]
  },
  {
   "cell_type": "markdown",
   "metadata": {},
   "source": [
    "### GradientBoostingClassifier model"
   ]
  },
  {
   "cell_type": "code",
   "execution_count": 139,
   "metadata": {},
   "outputs": [
    {
     "name": "stdout",
     "output_type": "stream",
     "text": [
      "Fitting 3 folds for each of 81 candidates, totalling 243 fits\n"
     ]
    },
    {
     "name": "stderr",
     "output_type": "stream",
     "text": [
      "[Parallel(n_jobs=2)]: Done  46 tasks      | elapsed:  3.4min\n",
      "[Parallel(n_jobs=2)]: Done 196 tasks      | elapsed: 13.8min\n",
      "[Parallel(n_jobs=2)]: Done 243 out of 243 | elapsed: 19.4min finished\n"
     ]
    },
    {
     "data": {
      "text/plain": [
       "GridSearchCV(cv=StratifiedKFold(n_splits=3, random_state=42, shuffle=True),\n",
       "       error_score='raise',\n",
       "       estimator=GradientBoostingClassifier(criterion='friedman_mse', init=None,\n",
       "              learning_rate=0.1, loss='deviance', max_depth=3,\n",
       "              max_features=None, max_leaf_nodes=None,\n",
       "              min_impurity_split=1e-07, min_samples_leaf=1,\n",
       "              min_samples_split=2, min_weight_fraction_leaf=0.0,\n",
       "              n_estimators=100, presort='auto', random_state=None,\n",
       "              subsample=1.0, verbose=0, warm_start=False),\n",
       "       fit_params={}, iid=True, n_jobs=2,\n",
       "       param_grid={'max_features': [1.0, 0.3, 0.1], 'n_estimators': [1000], 'learning_rate': [0.5, 0.3, 0.1], 'max_depth': [4, 6, None], 'min_samples_leaf': [3, 9, 17]},\n",
       "       pre_dispatch='2*n_jobs', refit=True, return_train_score=True,\n",
       "       scoring=None, verbose=1)"
      ]
     },
     "execution_count": 139,
     "metadata": {},
     "output_type": "execute_result"
    }
   ],
   "source": [
    "# parameters to tune\n",
    "param_grid = {\"learning_rate\" : [0.5, 0.3, 0.1],\n",
    "              \"max_depth\" :   [4,6,None],\n",
    "              \"min_samples_leaf\": [3, 9, 17],\n",
    "              \"max_features\": [1.0, 0.3, 0.1],\n",
    "              \"n_estimators\": [1000]\n",
    "              \n",
    "             }\n",
    "gb = GradientBoostingClassifier()\n",
    "# run grid search\n",
    "grid_search_gb = GridSearchCV(gb, param_grid=param_grid, verbose=1, cv=cv, n_jobs=2)\n",
    "grid_search_gb.fit(Xs_train, y_train)"
   ]
  },
  {
   "cell_type": "code",
   "execution_count": 140,
   "metadata": {},
   "outputs": [
    {
     "name": "stdout",
     "output_type": "stream",
     "text": [
      "Best model:\n",
      "GradientBoostingClassifier(criterion='friedman_mse', init=None,\n",
      "              learning_rate=0.1, loss='deviance', max_depth=4,\n",
      "              max_features=0.1, max_leaf_nodes=None,\n",
      "              min_impurity_split=1e-07, min_samples_leaf=3,\n",
      "              min_samples_split=2, min_weight_fraction_leaf=0.0,\n",
      "              n_estimators=1000, presort='auto', random_state=None,\n",
      "              subsample=1.0, verbose=0, warm_start=False)\n"
     ]
    }
   ],
   "source": [
    "# best model estimator\n",
    "gb_best_model = grid_search_gb.best_estimator_\n",
    "print \"Best model:\\n\", gb_best_model"
   ]
  },
  {
   "cell_type": "code",
   "execution_count": 141,
   "metadata": {},
   "outputs": [
    {
     "name": "stdout",
     "output_type": "stream",
     "text": [
      "Best parameters:\n",
      "{'max_features': 0.1, 'n_estimators': 1000, 'learning_rate': 0.1, 'max_depth': 4, 'min_samples_leaf': 3}\n"
     ]
    }
   ],
   "source": [
    "# best tuned parameters\n",
    "gb_best_parameters = grid_search_gb.best_params_\n",
    "print \"Best parameters:\\n\", gb_best_parameters"
   ]
  },
  {
   "cell_type": "code",
   "execution_count": 142,
   "metadata": {},
   "outputs": [
    {
     "name": "stdout",
     "output_type": "stream",
     "text": [
      "Baseline score:\t0.705705102451\n",
      "Best score:\t0.760040160643\n"
     ]
    }
   ],
   "source": [
    "# best score\n",
    "gb_best_score = gb_best_model.score(Xs_test, y_test)\n",
    "print \"Baseline score:\\t\", 1 - y.mean()\n",
    "print \"Best score:\\t\", gb_best_score"
   ]
  },
  {
   "cell_type": "code",
   "execution_count": 143,
   "metadata": {
    "collapsed": true
   },
   "outputs": [],
   "source": [
    "# model predictions\n",
    "y_pred = gb_best_model.predict(Xs_test)"
   ]
  },
  {
   "cell_type": "markdown",
   "metadata": {},
   "source": [
    "#### Top 10 important features"
   ]
  },
  {
   "cell_type": "code",
   "execution_count": 144,
   "metadata": {
    "collapsed": true
   },
   "outputs": [],
   "source": [
    "gb_feature_importances = pd.DataFrame(gb_best_model.feature_importances_,\n",
    "                                   index = X_train.columns,\n",
    "                                    columns=['importance'])\n",
    "top_10 = gb_feature_importances.sort_values(by='importance', ascending=True).tail(10)"
   ]
  },
  {
   "cell_type": "code",
   "execution_count": 145,
   "metadata": {},
   "outputs": [
    {
     "data": {
      "text/html": [
       "<div>\n",
       "<style>\n",
       "    .dataframe thead tr:only-child th {\n",
       "        text-align: right;\n",
       "    }\n",
       "\n",
       "    .dataframe thead th {\n",
       "        text-align: left;\n",
       "    }\n",
       "\n",
       "    .dataframe tbody tr th {\n",
       "        vertical-align: top;\n",
       "    }\n",
       "</style>\n",
       "<table border=\"1\" class=\"dataframe\">\n",
       "  <thead>\n",
       "    <tr style=\"text-align: right;\">\n",
       "      <th></th>\n",
       "      <th>importance</th>\n",
       "    </tr>\n",
       "  </thead>\n",
       "  <tbody>\n",
       "    <tr>\n",
       "      <th>votes</th>\n",
       "      <td>0.151563</td>\n",
       "    </tr>\n",
       "    <tr>\n",
       "      <th>n_episodes</th>\n",
       "      <td>0.117631</td>\n",
       "    </tr>\n",
       "    <tr>\n",
       "      <th>start_date</th>\n",
       "      <td>0.110117</td>\n",
       "    </tr>\n",
       "    <tr>\n",
       "      <th>user_reviews</th>\n",
       "      <td>0.099291</td>\n",
       "    </tr>\n",
       "    <tr>\n",
       "      <th>total_reviews</th>\n",
       "      <td>0.089767</td>\n",
       "    </tr>\n",
       "    <tr>\n",
       "      <th>critic_reviews</th>\n",
       "      <td>0.079946</td>\n",
       "    </tr>\n",
       "    <tr>\n",
       "      <th>runtime_tvmaze</th>\n",
       "      <td>0.067276</td>\n",
       "    </tr>\n",
       "    <tr>\n",
       "      <th>genre_animation</th>\n",
       "      <td>0.013564</td>\n",
       "    </tr>\n",
       "    <tr>\n",
       "      <th>genre_comedy</th>\n",
       "      <td>0.013444</td>\n",
       "    </tr>\n",
       "    <tr>\n",
       "      <th>genre_drama</th>\n",
       "      <td>0.012304</td>\n",
       "    </tr>\n",
       "  </tbody>\n",
       "</table>\n",
       "</div>"
      ],
      "text/plain": [
       "                 importance\n",
       "votes              0.151563\n",
       "n_episodes         0.117631\n",
       "start_date         0.110117\n",
       "user_reviews       0.099291\n",
       "total_reviews      0.089767\n",
       "critic_reviews     0.079946\n",
       "runtime_tvmaze     0.067276\n",
       "genre_animation    0.013564\n",
       "genre_comedy       0.013444\n",
       "genre_drama        0.012304"
      ]
     },
     "execution_count": 145,
     "metadata": {},
     "output_type": "execute_result"
    }
   ],
   "source": [
    "top_10.sort_values(by='importance', ascending=False)"
   ]
  },
  {
   "cell_type": "code",
   "execution_count": 146,
   "metadata": {
    "scrolled": false
   },
   "outputs": [
    {
     "data": {
      "image/png": "[encoded data removed]",
      "text/plain": [
       "<matplotlib.figure.Figure at 0x10fde5b10>"
      ]
     },
     "metadata": {},
     "output_type": "display_data"
    }
   ],
   "source": [
    "top_10.plot(kind = \"barh\", figsize=(10,6), fontsize=14)\n",
    "plt.title(\"Top 10 important features in GradientBoostingRegressor Model\", fontsize=14)\n",
    "plt.show()"
   ]
  },
  {
   "cell_type": "markdown",
   "metadata": {},
   "source": [
    "### Compare feature importance by each model"
   ]
  },
  {
   "cell_type": "code",
   "execution_count": 152,
   "metadata": {
    "collapsed": true
   },
   "outputs": [],
   "source": [
    "importances = pd.DataFrame(zip(dtc_best_model.feature_importances_,abc_best_model.feature_importances_,\\\n",
    "            bc_feature_importances, rf_best_model.feature_importances_,\\\n",
    "            gb_best_model.feature_importances_),\n",
    "            index=X_train.columns, columns=['dtc_importance', 'abc_importance', 'bc_importance', 'rf_importance',\\\n",
    "                                           'gb_importance',]).sort_values('rf_importance',ascending=False)               \n",
    "importances = importances.head(10)"
   ]
  },
  {
   "cell_type": "code",
   "execution_count": 153,
   "metadata": {},
   "outputs": [
    {
     "data": {
      "image/png": "[encoded data removed]",
      "text/plain": [
       "<matplotlib.figure.Figure at 0x11869bd90>"
      ]
     },
     "metadata": {},
     "output_type": "display_data"
    }
   ],
   "source": [
    "fig, ax = plt.subplots(figsize=(16,8))\n",
    "importances.plot(kind='bar', ax=ax, fontsize=14)\n",
    "plt.title(\"Top 10 important features in 5 Models\", fontsize=14);\n"
   ]
  },
  {
   "cell_type": "markdown",
   "metadata": {
    "collapsed": true
   },
   "source": [
    "The above figure shows top ten features that have the most relative importance among all features included in our predictors matrix.\n",
    "One of the key takeaways is that actors and directors may not be as important to creating all-time hit tv-shows as we might think since we dont find them in top ten of the feature importance ranking. Another key observation is that documentary, comedy, animation tv-shows are in top ten list of feature importance."
   ]
  },
  {
   "cell_type": "code",
   "execution_count": null,
   "metadata": {
    "collapsed": true
   },
   "outputs": [],
   "source": []
  }
 ],
 "metadata": {
  "kernelspec": {
   "display_name": "Python 2",
   "language": "python",
   "name": "python2"
  },
  "language_info": {
   "codemirror_mode": {
    "name": "ipython",
    "version": 2
   },
   "file_extension": ".py",
   "mimetype": "text/x-python",
   "name": "python",
   "nbconvert_exporter": "python",
   "pygments_lexer": "ipython2",
   "version": "2.7.13"
  }
 },
 "nbformat": 4,
 "nbformat_minor": 2
}
