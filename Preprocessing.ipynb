{
 "cells": [
  {
   "cell_type": "markdown",
   "metadata": {},
   "source": [
    "### Import libraries"
   ]
  },
  {
   "cell_type": "code",
   "execution_count": 598,
   "metadata": {
    "collapsed": true
   },
   "outputs": [],
   "source": [
    "from time import time\n",
    "import random\n",
    "import requests\n",
    "from scrapy.selector import Selector\n",
    "from scrapy.http import HtmlResponse\n",
    "import pandas as pd\n",
    "import numpy as np\n",
    "from time import sleep\n",
    "from sklearn.preprocessing import StandardScaler, MaxAbsScaler, MinMaxScaler, Imputer\n",
    "from sklearn.feature_extraction.text import CountVectorizer, TfidfTransformer, TfidfVectorizer \n",
    "from sklearn.model_selection import train_test_split, cross_val_score, StratifiedKFold, GridSearchCV\n",
    "from sklearn.metrics import classification_report, confusion_matrix, accuracy_score\n",
    "from sklearn.naive_bayes import MultinomialNB, BernoulliNB, GaussianNB\n",
    "from sklearn.linear_model import LinearRegression, LogisticRegression, Lasso, Ridge, ElasticNet \n",
    "from sklearn.neighbors import KNeighborsClassifier\n",
    "from sklearn.tree import DecisionTreeClassifier, DecisionTreeRegressor\n",
    "\n",
    "from sklearn.pipeline import Pipeline\n",
    "\n",
    "%matplotlib inline\n"
   ]
  },
  {
   "cell_type": "markdown",
   "metadata": {},
   "source": [
    "### Get the list of tv-show id's from 'imdb.com'"
   ]
  },
  {
   "cell_type": "code",
   "execution_count": null,
   "metadata": {
    "collapsed": true
   },
   "outputs": [],
   "source": [
    "# list of tv-show ids with the most complete info (some research has been done)\n",
    "\n",
    "page_list = [1, 2, 3, 4, 5, 6, 7, 8, 9, 10, 11, 12, 13, 14, 15, 16, 17, 18, 19, 20, 21, 22, 23, 24, 25, 26, 27, 28,\\\n",
    "             29, 31, 32, 33, 34, 35, 36, 37, 38, 39, 40, 41, 42, 43, 44, 45, 46, 47, 49, 50, 54, 56, 57, 58, 59, 60,\\\n",
    "             61, 62, 63, 64, 65, 66, 67, 68, 69, 74, 76, 77, 78, 79, 80, 87, 88, 89, 90, 91, 92, 93, 94, 95, 96, 99,\\\n",
    "             100, 101, 105, 107, 108, 110, 112, 114, 116, 117, 127, 128, 132, 135, 140, 156, 160, 161, 165, 166, 168,\\\n",
    "             169, 170, 181, 191, 192, 198]\n",
    "\n",
    "show_ids = []\n",
    "\n",
    "for page in page_list: \n",
    "    response = requests.get(\"http://www.imdb.com/search/title?title_type=tv_series&view=advanced&page={}&sort=num_votes,desc&ref_=adv_prv\".format(page))\n",
    "    print page\n",
    "    print response.status_code\n",
    "    HTML = response.text \n",
    "    \n",
    "    titles = Selector(text=HTML).xpath('//h3[@class=\"lister-item-header\"]/a/@href').extract()\n",
    "    for title in titles:\n",
    "        show_ids.append(title.split('/')[2])\n",
    "    print \"show ids length is:\", len(show_ids)"
   ]
  },
  {
   "cell_type": "markdown",
   "metadata": {},
   "source": [
    "### Get info about the tv-shows"
   ]
  },
  {
   "cell_type": "code",
   "execution_count": null,
   "metadata": {
    "collapsed": true
   },
   "outputs": [],
   "source": [
    "show_rating = []\n",
    "show_names = []\n",
    "show_votes = []\n",
    "show_episodes = []\n",
    "show_genre = []\n",
    "show_runtime2 = []\n",
    "show_user_review = []\n",
    "show_critic_review = []\n",
    "show_runtime = []\n",
    "show_start = []\n",
    "show_cast = []\n",
    "\n",
    "# iterate through the list of tv-show id's to get info\n",
    "for title in show_ids:\n",
    "    response = requests.get(\"http://www.imdb.com/title/{}/\".format(title))\n",
    "    print response.status_code, show_ids.index(title)\n",
    "    HTML = response.text \n",
    "    \n",
    "    # get a tv-shows ratings\n",
    "    rating = Selector(text=HTML).xpath('//div[@class=\"ratingValue\"]/strong/span/text()').extract()\n",
    "    if rating == []:\n",
    "        show_rating.append(None)\n",
    "    else:\n",
    "        show_rating.append(rating[0])\n",
    "    \n",
    "    # get a tv-shows names\n",
    "    names = Selector(text=HTML).xpath('//h1[@itemprop=\"name\"]/text()').extract()\n",
    "    if names == []:\n",
    "        show_names.append(None)\n",
    "    else:\n",
    "        show_names.append(names[0].strip())\n",
    "    \n",
    "    # get a tv-shows number of votes\n",
    "    votes = Selector(text=HTML).xpath('//div[@class=\"imdbRating\"]/a/span[@class=\"small\"]/text()').extract()\n",
    "    if votes == []:\n",
    "        show_votes.append(None)\n",
    "    else:\n",
    "        show_votes.append(votes[0])\n",
    "\n",
    "    # get a tv-shows number of episodes\n",
    "    episodes = Selector(text=HTML).xpath('//span[@class=\"bp_sub_heading\"]/text()').extract()\n",
    "    if episodes == []:\n",
    "        show_episodes.append(None)\n",
    "    elif len(episodes) > 1:\n",
    "        show_episodes.append(episodes[1].split(' ')[0])\n",
    "    else:\n",
    "        show_episodes.append(episodes[0].split(' ')[0])\n",
    "    \n",
    "    # get a tv-shows genres\n",
    "    genre = Selector(text=HTML).xpath('//div[@class=\"subtext\"]/a[1]/span[@class=\"itemprop\"]/text()').extract()\n",
    "    if genre == []:\n",
    "        show_genre.append(None)\n",
    "    else:\n",
    "        show_genre.append(genre[0])\n",
    "        \n",
    "    # get a tv-shows runtime (first source)\n",
    "    runtime2 = Selector(text=HTML).xpath('//time[@itemprop=\"duration\"]/text()').extract()\n",
    "    if runtime2 == []:\n",
    "        show_runtime2.append(None)\n",
    "    else:\n",
    "        show_runtime2.append(runtime2[0].split('\\n')[1].split()[0])\n",
    "    \n",
    "    # get a tv-shows user reviews\n",
    "    user_review = Selector(text=HTML).xpath('//div[2]/span[@class=\"subText\"]/a/text()').extract()\n",
    "    if user_review == []:\n",
    "        show_user_review.append(None)\n",
    "    else:\n",
    "        show_user_review.append(user_review[0].split()[0])\n",
    "\n",
    "    # get a tv-shows critic reviews\n",
    "    critic_review = Selector(text=HTML).xpath('//a[@href=\"externalreviews?ref_=tt_ov_rt\"]/text()').extract()\n",
    "    if critic_review == []:\n",
    "        show_critic_review.append(None)\n",
    "    else:\n",
    "        show_critic_review.append(critic_review[0].split()[0])    \n",
    "    \n",
    "    # get a tv-shows user reviews\n",
    "    response = requests.get(\"http://www.imdb.com/title/{}/technical?ref_=tt_dt_spec\".format(title))\n",
    "    print response.status_code\n",
    "    HTML = response.text\n",
    "    try:    \n",
    "        runtime = Selector(text=HTML).xpath('//tr[@class=\"odd\"]/td[2]/text()').extract()\n",
    "        if runtime == []:\n",
    "            show_runtime.append(None)\n",
    "        else:    \n",
    "            show_runtime.append(runtime[0].split('\\n')[1].split()[0])\n",
    "    except IndexError:\n",
    "        show_runtime.append(None)\n",
    "\n",
    "    # get a tv-shows start date\n",
    "    response = requests.get(\"http://www.imdb.com/title/{}/ratings?ref_=tt_ql_op_4\".format(title))\n",
    "    print response.status_code\n",
    "    HTML = response.text\n",
    "    start = Selector(text=HTML).xpath('//div[@id=\"tn15title\"]/h1/span/a/text()').extract()\n",
    "    if start == []:\n",
    "        show_start.append(None)\n",
    "    else:    \n",
    "        show_start.append(start[0])\n",
    "       \n",
    "    # get a tv-shows cast\n",
    "    response = requests.get(\"http://www.imdb.com/title/{}/fullcredits?ref_=tt_cl_sm#cast\".format(title))\n",
    "    print response.status_code\n",
    "    HTML = response.text\n",
    "\n",
    "    cast = Selector(text=HTML).xpath('//td[@class=\"name\"]/a/text()').extract()\n",
    "    if cast == []:\n",
    "        show_cast.append(None)\n",
    "    else:    \n",
    "        show_cast.append(cast[:10])\n",
    "    \n",
    "    sleep(0.5)\n",
    "\n",
    "\n",
    "\n",
    "\n"
   ]
  },
  {
   "cell_type": "code",
   "execution_count": null,
   "metadata": {
    "collapsed": true
   },
   "outputs": [],
   "source": [
    "# transform show_cast (list of lists) to string_cast (list of strings)\n",
    "string_cast = []\n",
    "for cast in show_cast:\n",
    "    if cast == None:\n",
    "        string_cast.append(None)\n",
    "        continue\n",
    "    clean_cast = []\n",
    "    for actor in cast:\n",
    "        clean_cast.append(actor.strip())\n",
    "    string_cast.append(', '.join(clean_cast))"
   ]
  },
  {
   "cell_type": "code",
   "execution_count": null,
   "metadata": {
    "collapsed": true
   },
   "outputs": [],
   "source": [
    "# additional source for tv-shows runtime \n",
    "def get_entry(entry):\n",
    "    res=requests.get('http://api.tvmaze.com/lookup/shows?imdb='+entry)\n",
    "    print res.status_code\n",
    "    if res.status_code == 200:\n",
    "        results = json.loads(res.text)\n",
    "        \n",
    "        try:   \n",
    "            runtime = results['runtime']\n",
    "        except TypeError:\n",
    "            runtime = 'NA'\n",
    "        return runtime\n",
    "\n",
    "import json\n",
    "\n",
    "runtime_tvmaze = []\n",
    "for element in show_ids:\n",
    "    runtime_tvmaze.append(get_entry(element))\n",
    "    print show_ids.index(element)\n",
    "    sleep(0.7)    "
   ]
  },
  {
   "cell_type": "markdown",
   "metadata": {},
   "source": [
    "### Create a Data Frame with all the information about tv-shows"
   ]
  },
  {
   "cell_type": "code",
   "execution_count": null,
   "metadata": {
    "collapsed": true
   },
   "outputs": [],
   "source": [
    "data = pd.DataFrame.from_items([('id', show_ids), ('name', show_names), ('genre', show_genre),\\\n",
    "                            ('start_date', show_start), ('rating', show_rating_f), ('votes', show_votes_f),\\\n",
    "                            ('n_episodes', show_episodes_f), ('runtime1', show_runtimeS_f),\\\n",
    "                            ('runtime2', show_runtime_f), ('user_reviews', show_user_review_f),\\\n",
    "                            ('critic_reviews', show_critic_review_f), ('cast', string_cast),\\\n",
    "                            ('runtime_tvmaze', runtime_tvmaze)])"
   ]
  },
  {
   "cell_type": "markdown",
   "metadata": {},
   "source": [
    "### Save the data to file"
   ]
  },
  {
   "cell_type": "code",
   "execution_count": 3,
   "metadata": {
    "collapsed": true
   },
   "outputs": [],
   "source": [
    "import pickle\n",
    "# save data\n",
    "pickle.dump( data, open( \"data_df.p\", \"wb\" ) )"
   ]
  },
  {
   "cell_type": "code",
   "execution_count": 396,
   "metadata": {
    "collapsed": true
   },
   "outputs": [],
   "source": [
    "# load data\n",
    "data = pickle.load( open( \"data_df.p\", \"rb\" ) )"
   ]
  },
  {
   "cell_type": "code",
   "execution_count": 397,
   "metadata": {},
   "outputs": [
    {
     "data": {
      "text/html": [
       "<div>\n",
       "<style>\n",
       "    .dataframe thead tr:only-child th {\n",
       "        text-align: right;\n",
       "    }\n",
       "\n",
       "    .dataframe thead th {\n",
       "        text-align: left;\n",
       "    }\n",
       "\n",
       "    .dataframe tbody tr th {\n",
       "        vertical-align: top;\n",
       "    }\n",
       "</style>\n",
       "<table border=\"1\" class=\"dataframe\">\n",
       "  <thead>\n",
       "    <tr style=\"text-align: right;\">\n",
       "      <th></th>\n",
       "      <th>id</th>\n",
       "      <th>name</th>\n",
       "      <th>genre</th>\n",
       "      <th>start_date</th>\n",
       "      <th>votes</th>\n",
       "      <th>n_episodes</th>\n",
       "      <th>runtime1</th>\n",
       "      <th>runtime2</th>\n",
       "      <th>runtime_tvmaze</th>\n",
       "      <th>user_reviews</th>\n",
       "      <th>critic_reviews</th>\n",
       "      <th>cast</th>\n",
       "      <th>rating</th>\n",
       "    </tr>\n",
       "  </thead>\n",
       "  <tbody>\n",
       "    <tr>\n",
       "      <th>0</th>\n",
       "      <td>tt0944947</td>\n",
       "      <td>Game of Thrones</td>\n",
       "      <td>Adventure</td>\n",
       "      <td>2011</td>\n",
       "      <td>1,212,353</td>\n",
       "      <td>73</td>\n",
       "      <td>57min</td>\n",
       "      <td>57</td>\n",
       "      <td>60.0</td>\n",
       "      <td>919</td>\n",
       "      <td>241</td>\n",
       "      <td>Alan Taylor|David Nutter|Alex Graves|Mark Mylo...</td>\n",
       "      <td>9.5</td>\n",
       "    </tr>\n",
       "    <tr>\n",
       "      <th>1</th>\n",
       "      <td>tt0903747</td>\n",
       "      <td>Breaking Bad</td>\n",
       "      <td>Crime</td>\n",
       "      <td>2008</td>\n",
       "      <td>1,010,045</td>\n",
       "      <td>62</td>\n",
       "      <td>49min</td>\n",
       "      <td>49</td>\n",
       "      <td>60.0</td>\n",
       "      <td>956</td>\n",
       "      <td>174</td>\n",
       "      <td>Michelle MacLaren|Adam Bernstein|Vince Gilliga...</td>\n",
       "      <td>9.5</td>\n",
       "    </tr>\n",
       "    <tr>\n",
       "      <th>2</th>\n",
       "      <td>tt1520211</td>\n",
       "      <td>The Walking Dead</td>\n",
       "      <td>Drama</td>\n",
       "      <td>2010</td>\n",
       "      <td>705,001</td>\n",
       "      <td>115</td>\n",
       "      <td>44min</td>\n",
       "      <td>44</td>\n",
       "      <td>60.0</td>\n",
       "      <td>934</td>\n",
       "      <td>258</td>\n",
       "      <td>Greg Nicotero|Ernest R. Dickerson|Michael E. S...</td>\n",
       "      <td>8.5</td>\n",
       "    </tr>\n",
       "    <tr>\n",
       "      <th>3</th>\n",
       "      <td>tt1475582</td>\n",
       "      <td>Sherlock</td>\n",
       "      <td>Crime</td>\n",
       "      <td>2010</td>\n",
       "      <td>595,233</td>\n",
       "      <td>15</td>\n",
       "      <td>1h</td>\n",
       "      <td>1</td>\n",
       "      <td>90.0</td>\n",
       "      <td>455</td>\n",
       "      <td>109</td>\n",
       "      <td>Paul McGuigan|Nick Hurran|Coky Giedroyc|Euros ...</td>\n",
       "      <td>9.2</td>\n",
       "    </tr>\n",
       "    <tr>\n",
       "      <th>4</th>\n",
       "      <td>tt0898266</td>\n",
       "      <td>The Big Bang Theory</td>\n",
       "      <td>Comedy</td>\n",
       "      <td>2007</td>\n",
       "      <td>574,644</td>\n",
       "      <td>280</td>\n",
       "      <td>22min</td>\n",
       "      <td>22</td>\n",
       "      <td>30.0</td>\n",
       "      <td>447</td>\n",
       "      <td>113</td>\n",
       "      <td>Mark Cendrowski|Anthony Rich|Peter Chakos|Nico...</td>\n",
       "      <td>8.3</td>\n",
       "    </tr>\n",
       "  </tbody>\n",
       "</table>\n",
       "</div>"
      ],
      "text/plain": [
       "          id                 name      genre start_date      votes n_episodes  \\\n",
       "0  tt0944947      Game of Thrones  Adventure       2011  1,212,353         73   \n",
       "1  tt0903747         Breaking Bad      Crime       2008  1,010,045         62   \n",
       "2  tt1520211     The Walking Dead      Drama       2010    705,001        115   \n",
       "3  tt1475582             Sherlock      Crime       2010    595,233         15   \n",
       "4  tt0898266  The Big Bang Theory     Comedy       2007    574,644        280   \n",
       "\n",
       "  runtime1 runtime2  runtime_tvmaze user_reviews critic_reviews  \\\n",
       "0    57min       57            60.0          919            241   \n",
       "1    49min       49            60.0          956            174   \n",
       "2    44min       44            60.0          934            258   \n",
       "3       1h        1            90.0          455            109   \n",
       "4    22min       22            30.0          447            113   \n",
       "\n",
       "                                                cast rating  \n",
       "0  Alan Taylor|David Nutter|Alex Graves|Mark Mylo...    9.5  \n",
       "1  Michelle MacLaren|Adam Bernstein|Vince Gilliga...    9.5  \n",
       "2  Greg Nicotero|Ernest R. Dickerson|Michael E. S...    8.5  \n",
       "3  Paul McGuigan|Nick Hurran|Coky Giedroyc|Euros ...    9.2  \n",
       "4  Mark Cendrowski|Anthony Rich|Peter Chakos|Nico...    8.3  "
      ]
     },
     "execution_count": 397,
     "metadata": {},
     "output_type": "execute_result"
    }
   ],
   "source": [
    "data.head()"
   ]
  },
  {
   "cell_type": "code",
   "execution_count": 398,
   "metadata": {},
   "outputs": [
    {
     "name": "stdout",
     "output_type": "stream",
     "text": [
      "<class 'pandas.core.frame.DataFrame'>\n",
      "RangeIndex: 5350 entries, 0 to 5349\n",
      "Data columns (total 13 columns):\n",
      "id                5350 non-null object\n",
      "name              5350 non-null object\n",
      "genre             5347 non-null object\n",
      "start_date        5350 non-null object\n",
      "votes             5350 non-null object\n",
      "n_episodes        5350 non-null object\n",
      "runtime1          4451 non-null object\n",
      "runtime2          4454 non-null object\n",
      "runtime_tvmaze    3972 non-null float64\n",
      "user_reviews      5032 non-null object\n",
      "critic_reviews    3760 non-null object\n",
      "cast              5337 non-null object\n",
      "rating            5350 non-null object\n",
      "dtypes: float64(1), object(12)\n",
      "memory usage: 543.4+ KB\n"
     ]
    }
   ],
   "source": [
    "data.info() # summary of a DataFrame "
   ]
  },
  {
   "cell_type": "markdown",
   "metadata": {},
   "source": [
    "### Data cleaning"
   ]
  },
  {
   "cell_type": "code",
   "execution_count": 399,
   "metadata": {
    "collapsed": true
   },
   "outputs": [],
   "source": [
    "pd.options.mode.chained_assignment = None  # default='warn'"
   ]
  },
  {
   "cell_type": "code",
   "execution_count": 400,
   "metadata": {
    "collapsed": true
   },
   "outputs": [],
   "source": [
    "# imputing None's in 'genre' column with information from 'imdb.com'\n",
    "data.genre[data.genre.isnull()] = ['Crime', 'Animation', 'Animation']"
   ]
  },
  {
   "cell_type": "code",
   "execution_count": 401,
   "metadata": {},
   "outputs": [
    {
     "data": {
      "text/html": [
       "<div>\n",
       "<style>\n",
       "    .dataframe thead tr:only-child th {\n",
       "        text-align: right;\n",
       "    }\n",
       "\n",
       "    .dataframe thead th {\n",
       "        text-align: left;\n",
       "    }\n",
       "\n",
       "    .dataframe tbody tr th {\n",
       "        vertical-align: top;\n",
       "    }\n",
       "</style>\n",
       "<table border=\"1\" class=\"dataframe\">\n",
       "  <thead>\n",
       "    <tr style=\"text-align: right;\">\n",
       "      <th></th>\n",
       "      <th>id</th>\n",
       "      <th>name</th>\n",
       "      <th>genre</th>\n",
       "      <th>start_date</th>\n",
       "      <th>votes</th>\n",
       "      <th>n_episodes</th>\n",
       "      <th>runtime1</th>\n",
       "      <th>runtime2</th>\n",
       "      <th>runtime_tvmaze</th>\n",
       "      <th>user_reviews</th>\n",
       "      <th>critic_reviews</th>\n",
       "      <th>cast</th>\n",
       "      <th>rating</th>\n",
       "    </tr>\n",
       "  </thead>\n",
       "  <tbody>\n",
       "    <tr>\n",
       "      <th>2700</th>\n",
       "      <td>tt2309302</td>\n",
       "      <td>Heathcliff</td>\n",
       "      <td>Animation</td>\n",
       "      <td>2012</td>\n",
       "      <td>1,383</td>\n",
       "      <td>13</td>\n",
       "      <td>None</td>\n",
       "      <td>None</td>\n",
       "      <td>30.0</td>\n",
       "      <td>1</td>\n",
       "      <td>1</td>\n",
       "      <td>None</td>\n",
       "      <td>7.5</td>\n",
       "    </tr>\n",
       "    <tr>\n",
       "      <th>3167</th>\n",
       "      <td>tt0816382</td>\n",
       "      <td>I Live with Models</td>\n",
       "      <td>Comedy</td>\n",
       "      <td>1995</td>\n",
       "      <td>989</td>\n",
       "      <td>0</td>\n",
       "      <td>None</td>\n",
       "      <td>None</td>\n",
       "      <td>NaN</td>\n",
       "      <td>1</td>\n",
       "      <td>None</td>\n",
       "      <td>None</td>\n",
       "      <td>8.2</td>\n",
       "    </tr>\n",
       "    <tr>\n",
       "      <th>3206</th>\n",
       "      <td>tt2557496</td>\n",
       "      <td>Who Wants to Be a Superhero?</td>\n",
       "      <td>Drama</td>\n",
       "      <td>1989</td>\n",
       "      <td>955</td>\n",
       "      <td>0</td>\n",
       "      <td>None</td>\n",
       "      <td>None</td>\n",
       "      <td>NaN</td>\n",
       "      <td>None</td>\n",
       "      <td>None</td>\n",
       "      <td>None</td>\n",
       "      <td>7.1</td>\n",
       "    </tr>\n",
       "    <tr>\n",
       "      <th>3478</th>\n",
       "      <td>tt3062514</td>\n",
       "      <td>Charlie and Lola</td>\n",
       "      <td>Reality-TV</td>\n",
       "      <td>2005</td>\n",
       "      <td>745</td>\n",
       "      <td>31</td>\n",
       "      <td>25min</td>\n",
       "      <td>25</td>\n",
       "      <td>NaN</td>\n",
       "      <td>None</td>\n",
       "      <td>None</td>\n",
       "      <td>None</td>\n",
       "      <td>9.5</td>\n",
       "    </tr>\n",
       "    <tr>\n",
       "      <th>3796</th>\n",
       "      <td>tt2269368</td>\n",
       "      <td>Dudesons in America</td>\n",
       "      <td>Animation</td>\n",
       "      <td>2012</td>\n",
       "      <td>652</td>\n",
       "      <td>12</td>\n",
       "      <td>None</td>\n",
       "      <td>None</td>\n",
       "      <td>25.0</td>\n",
       "      <td>4</td>\n",
       "      <td>3</td>\n",
       "      <td>None</td>\n",
       "      <td>7.4</td>\n",
       "    </tr>\n",
       "    <tr>\n",
       "      <th>3814</th>\n",
       "      <td>tt5764414</td>\n",
       "      <td>Grozovye vorota</td>\n",
       "      <td>Comedy</td>\n",
       "      <td>2016</td>\n",
       "      <td>648</td>\n",
       "      <td>16</td>\n",
       "      <td>1h</td>\n",
       "      <td>1</td>\n",
       "      <td>NaN</td>\n",
       "      <td>1</td>\n",
       "      <td>None</td>\n",
       "      <td>None</td>\n",
       "      <td>7.5</td>\n",
       "    </tr>\n",
       "    <tr>\n",
       "      <th>4205</th>\n",
       "      <td>tt3563898</td>\n",
       "      <td>Gokukoku no Brynhildr</td>\n",
       "      <td>Animation</td>\n",
       "      <td>2014</td>\n",
       "      <td>505</td>\n",
       "      <td>13</td>\n",
       "      <td>None</td>\n",
       "      <td>None</td>\n",
       "      <td>25.0</td>\n",
       "      <td>2</td>\n",
       "      <td>1</td>\n",
       "      <td>None</td>\n",
       "      <td>7.0</td>\n",
       "    </tr>\n",
       "    <tr>\n",
       "      <th>4526</th>\n",
       "      <td>tt0279557</td>\n",
       "      <td>Welcome to the Captain</td>\n",
       "      <td>Animation</td>\n",
       "      <td>1978</td>\n",
       "      <td>369</td>\n",
       "      <td>0</td>\n",
       "      <td>30min</td>\n",
       "      <td>30</td>\n",
       "      <td>NaN</td>\n",
       "      <td>1</td>\n",
       "      <td>None</td>\n",
       "      <td>None</td>\n",
       "      <td>7.5</td>\n",
       "    </tr>\n",
       "    <tr>\n",
       "      <th>4693</th>\n",
       "      <td>tt1475525</td>\n",
       "      <td>Biz size asik olduk</td>\n",
       "      <td>Talk-Show</td>\n",
       "      <td>2009</td>\n",
       "      <td>327</td>\n",
       "      <td>0</td>\n",
       "      <td>None</td>\n",
       "      <td>None</td>\n",
       "      <td>NaN</td>\n",
       "      <td>None</td>\n",
       "      <td>None</td>\n",
       "      <td>None</td>\n",
       "      <td>8.0</td>\n",
       "    </tr>\n",
       "    <tr>\n",
       "      <th>4785</th>\n",
       "      <td>tt2752022</td>\n",
       "      <td>Twenty Good Years</td>\n",
       "      <td>Animation</td>\n",
       "      <td>2009</td>\n",
       "      <td>253</td>\n",
       "      <td>6</td>\n",
       "      <td>40min</td>\n",
       "      <td>40</td>\n",
       "      <td>NaN</td>\n",
       "      <td>None</td>\n",
       "      <td>None</td>\n",
       "      <td>None</td>\n",
       "      <td>7.1</td>\n",
       "    </tr>\n",
       "    <tr>\n",
       "      <th>5014</th>\n",
       "      <td>tt6859260</td>\n",
       "      <td>Jay &amp; Silent Bob Get Old: Classic</td>\n",
       "      <td>Animation</td>\n",
       "      <td>2017</td>\n",
       "      <td>222</td>\n",
       "      <td>12</td>\n",
       "      <td>24min</td>\n",
       "      <td>24</td>\n",
       "      <td>NaN</td>\n",
       "      <td>None</td>\n",
       "      <td>None</td>\n",
       "      <td>None</td>\n",
       "      <td>8.2</td>\n",
       "    </tr>\n",
       "    <tr>\n",
       "      <th>5187</th>\n",
       "      <td>tt0294230</td>\n",
       "      <td>Perfect World</td>\n",
       "      <td>Comedy</td>\n",
       "      <td>1984</td>\n",
       "      <td>193</td>\n",
       "      <td>20</td>\n",
       "      <td>None</td>\n",
       "      <td>None</td>\n",
       "      <td>NaN</td>\n",
       "      <td>3</td>\n",
       "      <td>None</td>\n",
       "      <td>None</td>\n",
       "      <td>8.6</td>\n",
       "    </tr>\n",
       "    <tr>\n",
       "      <th>5198</th>\n",
       "      <td>tt1315336</td>\n",
       "      <td>Science Britannica</td>\n",
       "      <td>Drama</td>\n",
       "      <td>2008</td>\n",
       "      <td>193</td>\n",
       "      <td>10</td>\n",
       "      <td>None</td>\n",
       "      <td>None</td>\n",
       "      <td>54.0</td>\n",
       "      <td>None</td>\n",
       "      <td>None</td>\n",
       "      <td>None</td>\n",
       "      <td>7.7</td>\n",
       "    </tr>\n",
       "  </tbody>\n",
       "</table>\n",
       "</div>"
      ],
      "text/plain": [
       "             id                               name       genre start_date  \\\n",
       "2700  tt2309302                         Heathcliff   Animation       2012   \n",
       "3167  tt0816382                 I Live with Models      Comedy       1995   \n",
       "3206  tt2557496       Who Wants to Be a Superhero?       Drama       1989   \n",
       "3478  tt3062514                   Charlie and Lola  Reality-TV       2005   \n",
       "3796  tt2269368                Dudesons in America   Animation       2012   \n",
       "3814  tt5764414                    Grozovye vorota      Comedy       2016   \n",
       "4205  tt3563898              Gokukoku no Brynhildr   Animation       2014   \n",
       "4526  tt0279557             Welcome to the Captain   Animation       1978   \n",
       "4693  tt1475525                Biz size asik olduk   Talk-Show       2009   \n",
       "4785  tt2752022                  Twenty Good Years   Animation       2009   \n",
       "5014  tt6859260  Jay & Silent Bob Get Old: Classic   Animation       2017   \n",
       "5187  tt0294230                      Perfect World      Comedy       1984   \n",
       "5198  tt1315336                 Science Britannica       Drama       2008   \n",
       "\n",
       "      votes n_episodes runtime1 runtime2  runtime_tvmaze user_reviews  \\\n",
       "2700  1,383         13     None     None            30.0            1   \n",
       "3167    989          0     None     None             NaN            1   \n",
       "3206    955          0     None     None             NaN         None   \n",
       "3478    745         31    25min       25             NaN         None   \n",
       "3796    652         12     None     None            25.0            4   \n",
       "3814    648         16       1h        1             NaN            1   \n",
       "4205    505         13     None     None            25.0            2   \n",
       "4526    369          0    30min       30             NaN            1   \n",
       "4693    327          0     None     None             NaN         None   \n",
       "4785    253          6    40min       40             NaN         None   \n",
       "5014    222         12    24min       24             NaN         None   \n",
       "5187    193         20     None     None             NaN            3   \n",
       "5198    193         10     None     None            54.0         None   \n",
       "\n",
       "     critic_reviews  cast rating  \n",
       "2700              1  None    7.5  \n",
       "3167           None  None    8.2  \n",
       "3206           None  None    7.1  \n",
       "3478           None  None    9.5  \n",
       "3796              3  None    7.4  \n",
       "3814           None  None    7.5  \n",
       "4205              1  None    7.0  \n",
       "4526           None  None    7.5  \n",
       "4693           None  None    8.0  \n",
       "4785           None  None    7.1  \n",
       "5014           None  None    8.2  \n",
       "5187           None  None    8.6  \n",
       "5198           None  None    7.7  "
      ]
     },
     "execution_count": 401,
     "metadata": {},
     "output_type": "execute_result"
    }
   ],
   "source": [
    "# check missing values in 'cast' column\n",
    "data[data.cast.isnull()]"
   ]
  },
  {
   "cell_type": "code",
   "execution_count": 402,
   "metadata": {
    "collapsed": true
   },
   "outputs": [],
   "source": [
    "# drop rows with missing values in 'cast' column\n",
    "data = data.drop(data[data.cast.isnull()].index)"
   ]
  },
  {
   "cell_type": "code",
   "execution_count": 403,
   "metadata": {
    "collapsed": true
   },
   "outputs": [],
   "source": [
    "# fill missing values in column 'user_reviews' with 0, because no reviews had been left\n",
    "data.user_reviews.fillna(0, inplace=True)"
   ]
  },
  {
   "cell_type": "code",
   "execution_count": 404,
   "metadata": {
    "collapsed": true
   },
   "outputs": [],
   "source": [
    "# fill missing values in column 'critic_reviews' with 0, because no reviews had been left\n",
    "data.critic_reviews.fillna(0, inplace=True)"
   ]
  },
  {
   "cell_type": "code",
   "execution_count": 405,
   "metadata": {
    "collapsed": true
   },
   "outputs": [],
   "source": [
    "# replace '1' values in column \"runtime2\" to '60', because 1 represents 60 min\n",
    "data.runtime2.replace('1', '60', inplace=True)"
   ]
  },
  {
   "cell_type": "code",
   "execution_count": 406,
   "metadata": {
    "collapsed": true
   },
   "outputs": [],
   "source": [
    "# change type of \"start_date\" variable to \"integer\"\n",
    "data.start_date = data.start_date.map(lambda x: int(x))"
   ]
  },
  {
   "cell_type": "code",
   "execution_count": 407,
   "metadata": {
    "collapsed": true
   },
   "outputs": [],
   "source": [
    "# change type of \"rating\" variable to \"float\"\n",
    "data.rating = data.rating.map(lambda x: float(x))"
   ]
  },
  {
   "cell_type": "code",
   "execution_count": 408,
   "metadata": {
    "collapsed": true
   },
   "outputs": [],
   "source": [
    "# Delete a comma\n",
    "data.votes = data.votes.str.replace(',', '')"
   ]
  },
  {
   "cell_type": "code",
   "execution_count": 410,
   "metadata": {
    "collapsed": true
   },
   "outputs": [],
   "source": [
    "# change type of \"votes\" variable to \"integer\"\n",
    "data.votes = data.votes.map(lambda x: int(x))"
   ]
  },
  {
   "cell_type": "code",
   "execution_count": 411,
   "metadata": {
    "collapsed": true
   },
   "outputs": [],
   "source": [
    "# change type of \"n_episodes\" variable to \"integer\"\n",
    "data.n_episodes = data.n_episodes.map(lambda x: int(x))"
   ]
  },
  {
   "cell_type": "code",
   "execution_count": 412,
   "metadata": {
    "collapsed": true
   },
   "outputs": [],
   "source": [
    "# change value in \"user_reviews\" \n",
    "data.user_reviews[data.user_reviews == 'metacritic.com'] = '12'"
   ]
  },
  {
   "cell_type": "code",
   "execution_count": 413,
   "metadata": {
    "collapsed": true
   },
   "outputs": [],
   "source": [
    "# change type of \"user_reviews\" variable to \"integer\"\n",
    "data.user_reviews = data.user_reviews.map(lambda x: int(x))"
   ]
  },
  {
   "cell_type": "code",
   "execution_count": 414,
   "metadata": {
    "collapsed": true
   },
   "outputs": [],
   "source": [
    "# change type of \"critic_reviews\" variable to \"integer\"\n",
    "data.critic_reviews = data.critic_reviews.map(lambda x: int(x))"
   ]
  },
  {
   "cell_type": "code",
   "execution_count": 416,
   "metadata": {
    "collapsed": true
   },
   "outputs": [],
   "source": [
    "# replace NaN values in \"runtime_tvmaze\" variable with values from \"runtime2\" variable\n",
    "data.runtime_tvmaze[data.runtime_tvmaze.isnull()] = data.runtime2[data.runtime_tvmaze.isnull()]"
   ]
  },
  {
   "cell_type": "code",
   "execution_count": 417,
   "metadata": {},
   "outputs": [
    {
     "data": {
      "text/plain": [
       "359"
      ]
     },
     "execution_count": 417,
     "metadata": {},
     "output_type": "execute_result"
    }
   ],
   "source": [
    "# check the NaN values in \"runtime_tvmaze\" variable\n",
    "data.runtime_tvmaze.isnull().sum()"
   ]
  },
  {
   "cell_type": "code",
   "execution_count": 418,
   "metadata": {
    "collapsed": true
   },
   "outputs": [],
   "source": [
    "# droping the NaN values\n",
    "data = data.drop(data[data.runtime_tvmaze.isnull()].index)"
   ]
  },
  {
   "cell_type": "code",
   "execution_count": 419,
   "metadata": {
    "collapsed": true
   },
   "outputs": [],
   "source": [
    "# replace value in \"runtime_tvmaze\" variable with actual value\n",
    "data.runtime_tvmaze[data.runtime_tvmaze == '1.33'] = '30'"
   ]
  },
  {
   "cell_type": "code",
   "execution_count": 420,
   "metadata": {
    "collapsed": true
   },
   "outputs": [],
   "source": [
    "# change type of \"runtime_tvmaze\" variable to \"integer\"\n",
    "data.runtime_tvmaze = data.runtime_tvmaze.map(lambda x: int(x))"
   ]
  },
  {
   "cell_type": "code",
   "execution_count": 421,
   "metadata": {
    "collapsed": true
   },
   "outputs": [],
   "source": [
    "# drop \"runtime1\" and \"runtime2\" variables\n",
    "data = data.drop(['runtime1', 'runtime2'], axis=1)"
   ]
  },
  {
   "cell_type": "code",
   "execution_count": 423,
   "metadata": {},
   "outputs": [
    {
     "name": "stdout",
     "output_type": "stream",
     "text": [
      "<class 'pandas.core.frame.DataFrame'>\n",
      "Int64Index: 4978 entries, 0 to 5349\n",
      "Data columns (total 11 columns):\n",
      "id                4978 non-null object\n",
      "name              4978 non-null object\n",
      "genre             4978 non-null object\n",
      "start_date        4978 non-null int64\n",
      "votes             4978 non-null int64\n",
      "n_episodes        4978 non-null int64\n",
      "runtime_tvmaze    4978 non-null int64\n",
      "user_reviews      4978 non-null int64\n",
      "critic_reviews    4978 non-null int64\n",
      "cast              4978 non-null object\n",
      "rating            4978 non-null float64\n",
      "dtypes: float64(1), int64(6), object(4)\n",
      "memory usage: 466.7+ KB\n"
     ]
    }
   ],
   "source": [
    "# checking type of variables\n",
    "data.info()"
   ]
  },
  {
   "cell_type": "code",
   "execution_count": 597,
   "metadata": {
    "collapsed": true
   },
   "outputs": [],
   "source": [
    "# saving the cleaned data\n",
    "pickle.dump( data, open( \"data_df_clean.p\", \"wb\" ) )"
   ]
  }
 ],
 "metadata": {
  "kernelspec": {
   "display_name": "Python 2",
   "language": "python",
   "name": "python2"
  },
  "language_info": {
   "codemirror_mode": {
    "name": "ipython",
    "version": 2
   },
   "file_extension": ".py",
   "mimetype": "text/x-python",
   "name": "python",
   "nbconvert_exporter": "python",
   "pygments_lexer": "ipython2",
   "version": "2.7.13"
  }
 },
 "nbformat": 4,
 "nbformat_minor": 2
}
